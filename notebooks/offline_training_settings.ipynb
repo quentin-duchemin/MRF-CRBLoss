{
 "cells": [
  {
   "cell_type": "markdown",
   "metadata": {},
   "source": [
    "# Interactive tool for estimation of parameters in quantitative MRI\n",
    "\n",
    "# Setting parameters for a new training \n",
    "\n",
    "\n",
    "### 1) Presentation of the project\n",
    "\n",
    "We try to estimate the biological parameters in quantitative MRI using neural networks. This notebook is an interactive tool allowing you to define the settings for your next training.\n",
    "\n",
    "### 2) How to use this interface ?\n",
    "\n",
    "This tool allows to save a file containing the settings for a new training. \n",
    "\n",
    "### 3) How to launch a training once the settings file is saved ?\n",
    "\n",
    "To launch a training, follow the instructions below :\n",
    "\n",
    "- Select the desired parameters and push the button to save the file.\n",
    "- From the folder **offline_built_fingerprints**, launch the command line : **python main.py --save_name 'name_chosen'**. Make sure to replace **'name_chosen'** by the name you chose to save the settings file."
   ]
  },
  {
   "cell_type": "code",
   "execution_count": 6,
   "metadata": {
    "scrolled": true
   },
   "outputs": [
    {
     "data": {
      "application/vnd.jupyter.widget-view+json": {
       "model_id": "8e88d793194b4f1f9b98ac73b69e786a",
       "version_major": 2,
       "version_minor": 0
      },
      "text/plain": [
       "VBox(children=(HBox(children=(interactive(children=(Select(description='Select one architecture.', layout=Layo…"
      ]
     },
     "metadata": {},
     "output_type": "display_data"
    },
    {
     "data": {
      "application/vnd.jupyter.widget-view+json": {
       "model_id": "c4a44d66ef6945dbbf042d89a7a86949",
       "version_major": 2,
       "version_minor": 0
      },
      "text/plain": [
       "Select(description='Initialization for the first linear layer:', layout=Layout(width='700px'), options=('SGD',…"
      ]
     },
     "metadata": {},
     "output_type": "display_data"
    },
    {
     "data": {
      "application/vnd.jupyter.widget-view+json": {
       "model_id": "c24f8fe4e07845198bb8f12a7b2b73b0",
       "version_major": 2,
       "version_minor": 0
      },
      "text/plain": [
       "BoundedFloatText(value=0.001, description='Learning Rate:', layout=Layout(width='700px'), style=DescriptionSty…"
      ]
     },
     "metadata": {},
     "output_type": "display_data"
    },
    {
     "data": {
      "application/vnd.jupyter.widget-view+json": {
       "model_id": "6505f360fb9348c2952c447cf13eceee",
       "version_major": 2,
       "version_minor": 0
      },
      "text/plain": [
       "Select(description='Noise type:', index=1, layout=Layout(width='700px'), options=('SNR', 'Standard'), style=De…"
      ]
     },
     "metadata": {},
     "output_type": "display_data"
    },
    {
     "data": {
      "application/vnd.jupyter.widget-view+json": {
       "model_id": "b1607b64d9f44d8891929aec3b410159",
       "version_major": 2,
       "version_minor": 0
      },
      "text/plain": [
       "BoundedFloatText(value=0.03333333333333333, description='Noise Level:', layout=Layout(width='700px'), max=200.…"
      ]
     },
     "metadata": {},
     "output_type": "display_data"
    },
    {
     "data": {
      "application/vnd.jupyter.widget-view+json": {
       "model_id": "6521997bd8484e1a9736e8cd0ff26822",
       "version_major": 2,
       "version_minor": 0
      },
      "text/plain": [
       "IntText(value=64, description='Batch Size:', layout=Layout(width='700px'), style=DescriptionStyle(description_…"
      ]
     },
     "metadata": {},
     "output_type": "display_data"
    },
    {
     "data": {
      "application/vnd.jupyter.widget-view+json": {
       "model_id": "c1feeeaf8c754180ac7801e86427851a",
       "version_major": 2,
       "version_minor": 0
      },
      "text/plain": [
       "IntText(value=10000, description='Nb Epochs:', layout=Layout(width='700px'), style=DescriptionStyle(descriptio…"
      ]
     },
     "metadata": {},
     "output_type": "display_data"
    },
    {
     "data": {
      "application/vnd.jupyter.widget-view+json": {
       "model_id": "bdc5227f9a8144a294f39249a2fdc2b1",
       "version_major": 2,
       "version_minor": 0
      },
      "text/plain": [
       "Select(description='Parameters to estimate:', layout=Layout(width='700px'), options=('The three parameters', '…"
      ]
     },
     "metadata": {},
     "output_type": "display_data"
    },
    {
     "data": {
      "application/vnd.jupyter.widget-view+json": {
       "model_id": "6aed7e8370be463ca096ee46a9ce5c8b",
       "version_major": 2,
       "version_minor": 0
      },
      "text/plain": [
       "Select(description='Loss m0s:', index=1, layout=Layout(width='700px'), options=('MSE-CRB', 'MSE-Log', 'MSE', '…"
      ]
     },
     "metadata": {},
     "output_type": "display_data"
    },
    {
     "data": {
      "application/vnd.jupyter.widget-view+json": {
       "model_id": "02c6f9ed6b3844b4ba309070bab3287e",
       "version_major": 2,
       "version_minor": 0
      },
      "text/plain": [
       "Select(description='Loss t1f:', index=1, layout=Layout(width='700px'), options=('MSE-CRB', 'MSE-Log', 'MSE', '…"
      ]
     },
     "metadata": {},
     "output_type": "display_data"
    },
    {
     "data": {
      "application/vnd.jupyter.widget-view+json": {
       "model_id": "c186a9bb962146bab4ad17dd6a2b1fc5",
       "version_major": 2,
       "version_minor": 0
      },
      "text/plain": [
       "Select(description='Loss t2f:', index=1, layout=Layout(width='700px'), options=('MSE-CRB', 'MSE-Log', 'MSE', '…"
      ]
     },
     "metadata": {},
     "output_type": "display_data"
    },
    {
     "data": {
      "application/vnd.jupyter.widget-view+json": {
       "model_id": "1f879e5f5ad94d398d862ad4178254f2",
       "version_major": 2,
       "version_minor": 0
      },
      "text/plain": [
       "Select(description='Loss r:', index=1, layout=Layout(width='700px'), options=('MSE-CRB', 'MSE-Log', 'MSE', 'MS…"
      ]
     },
     "metadata": {},
     "output_type": "display_data"
    },
    {
     "data": {
      "application/vnd.jupyter.widget-view+json": {
       "model_id": "fade78a6f7a74d4184870a16db62edd0",
       "version_major": 2,
       "version_minor": 0
      },
      "text/plain": [
       "Select(description='Loss t1s:', index=1, layout=Layout(width='700px'), options=('MSE-CRB', 'MSE-Log', 'MSE', '…"
      ]
     },
     "metadata": {},
     "output_type": "display_data"
    },
    {
     "data": {
      "application/vnd.jupyter.widget-view+json": {
       "model_id": "2bcddd72b05644d8b5cbcfb01b551793",
       "version_major": 2,
       "version_minor": 0
      },
      "text/plain": [
       "Select(description='Loss t2s:', index=1, layout=Layout(width='700px'), options=('MSE-CRB', 'MSE-Log', 'MSE', '…"
      ]
     },
     "metadata": {},
     "output_type": "display_data"
    },
    {
     "data": {
      "application/vnd.jupyter.widget-view+json": {
       "model_id": "4d9479854bf442da80b1be3c8b1f0983",
       "version_major": 2,
       "version_minor": 0
      },
      "text/plain": [
       "FloatText(value=0.1, description='minimun proton density:', layout=Layout(width='700px'), style=DescriptionSty…"
      ]
     },
     "metadata": {},
     "output_type": "display_data"
    },
    {
     "data": {
      "application/vnd.jupyter.widget-view+json": {
       "model_id": "ecd7996c81684cd88abdc7c0f7e63bf7",
       "version_major": 2,
       "version_minor": 0
      },
      "text/plain": [
       "FloatText(value=1.0, description='maximum proton density:', layout=Layout(width='700px'), style=DescriptionSty…"
      ]
     },
     "metadata": {},
     "output_type": "display_data"
    },
    {
     "data": {
      "application/vnd.jupyter.widget-view+json": {
       "model_id": "be8debbec447458282b3aa8fff90d280",
       "version_major": 2,
       "version_minor": 0
      },
      "text/plain": [
       "Checkbox(value=True, description='Are input signals complex valued?', layout=Layout(width='700px'))"
      ]
     },
     "metadata": {},
     "output_type": "display_data"
    },
    {
     "data": {
      "application/vnd.jupyter.widget-view+json": {
       "model_id": "ec96eb7a0113488ab2f2940989171846",
       "version_major": 2,
       "version_minor": 0
      },
      "text/plain": [
       "IntText(value=0, description='Number of files used', layout=Layout(width='700px'), style=DescriptionStyle(desc…"
      ]
     },
     "metadata": {},
     "output_type": "display_data"
    },
    {
     "data": {
      "application/vnd.jupyter.widget-view+json": {
       "model_id": "3b5b2647490642b8861aa1afe1aa53f0",
       "version_major": 2,
       "version_minor": 0
      },
      "text/plain": [
       "Text(value='gaussian', description='Folder in \"loading_data\" containing the files:', layout=Layout(width='700p…"
      ]
     },
     "metadata": {},
     "output_type": "display_data"
    },
    {
     "data": {
      "application/vnd.jupyter.widget-view+json": {
       "model_id": "9e5b7511f0df41da9b1606761c9eb30c",
       "version_major": 2,
       "version_minor": 0
      },
      "text/plain": [
       "Text(value='1', description='Saving name:', layout=Layout(width='700px'), placeholder='Enter the name desired'…"
      ]
     },
     "metadata": {},
     "output_type": "display_data"
    },
    {
     "data": {
      "application/vnd.jupyter.widget-view+json": {
       "model_id": "1cd472d2648d4a75a0dbf4d3bbb66483",
       "version_major": 2,
       "version_minor": 0
      },
      "text/plain": [
       "VBox(children=(HBox(children=(interactive(children=(Checkbox(value=True, description='Keep validation error', …"
      ]
     },
     "metadata": {},
     "output_type": "display_data"
    },
    {
     "data": {
      "application/vnd.jupyter.widget-view+json": {
       "model_id": "d6f70a6d4a444476a1dd8af1ccabf1b2",
       "version_major": 2,
       "version_minor": 0
      },
      "text/plain": [
       "Button(description='CLICK HERE to save the settings previously defined for the training !', layout=Layout(heig…"
      ]
     },
     "metadata": {},
     "output_type": "display_data"
    },
    {
     "data": {
      "application/vnd.jupyter.widget-view+json": {
       "model_id": "b4f0dd4080694e1ab01f9b0403edac90",
       "version_major": 2,
       "version_minor": 0
      },
      "text/plain": [
       "Output()"
      ]
     },
     "metadata": {},
     "output_type": "display_data"
    }
   ],
   "source": [
    "import sys\n",
    "sys.path.append('..')\n",
    "from ipywidgets import interact, interactive, fixed, interact_manual\n",
    "import ipywidgets as widgets\n",
    "import os\n",
    "from os import listdir\n",
    "from os.path import isfile, join\n",
    "import importlib\n",
    "from IPython.display import clear_output\n",
    "import numpy as np\n",
    "from MRF.Offline import Network\n",
    "from MRF.Training_parameters import *\n",
    "import MRF\n",
    "import warnings\n",
    "\n",
    "warnings.filterwarnings(\"ignore\")\n",
    "\n",
    "item_layout = widgets. Layout(\n",
    "    display='flex',\n",
    "    justify_content='space-between'\n",
    ")\n",
    "style = {'description_width': '250px'} \n",
    "layout = {'width': '700px'}\n",
    "\n",
    "dropdownmodel = widgets.Select(\n",
    "    options=MRF.models.__all__,\n",
    "    value='CRB-paper',\n",
    "    description='Select one architecture.',\n",
    "    style=style, layout=layout)\n",
    "\n",
    "initialization =widgets.Select(\n",
    "    options=Initialization.list(),\n",
    "    value='Random', \n",
    "    description='Initialization for the first linear layer:',\n",
    "    disabled=False,\n",
    "    style=style, layout=layout)\n",
    "\n",
    "dimension_projection = widgets.IntText(\n",
    "    value=None,\n",
    "    description='Dimension projection subspace:',\n",
    "    disabled=False,\n",
    "    style=style, layout=layout)\n",
    "\n",
    "start_by_projection = widgets.Checkbox(\n",
    "    value=True,\n",
    "    description='Start by a projection',\n",
    "    disabled=True, layout=layout)\n",
    "\n",
    "normalization = widgets.Select(\n",
    "    options = Normalization.list(),\n",
    "    value='Without',\n",
    "    description='Normalization:',\n",
    "    style=style, layout=layout)\n",
    "\n",
    "namepca = widgets.Text(\n",
    "    value='basis_gaussian.mat',\n",
    "    description='Name file PCA:',\n",
    "    disabled=False,\n",
    "    style=style, layout=layout)\n",
    "\n",
    "def print_form_proj(**func_kwargs):\n",
    "    MOD = importlib.import_module('MRF.models.'+dropdownmodel.value)\n",
    "    net = MOD.model(ghost=True)\n",
    "    if net.start_by_projection:\n",
    "        iproj.children[1].value = True\n",
    "        iproj.children[2].options = Normalization.list()\n",
    "        return {'mod': iproj.children[0].value,\n",
    "                'Sbp': iproj.children[1].value,\n",
    "                'Norm': iproj.children[2].value,\n",
    "                'Ini': iproj.children[3].value,\n",
    "                'Dim': iproj.children[4].value,\n",
    "                'name': iproj.children[5].value}\n",
    "    else:\n",
    "        iproj.children[1].value = False\n",
    "        iproj.children[2].options = Normalization.list()[:2] \n",
    "        return {'mod': iproj.children[0].value,\n",
    "                'Sbp': iproj.children[1].value,\n",
    "                'Norm': iproj.children[2].value}\n",
    "\n",
    "def for_proj(valid):\n",
    "    if valid.new:\n",
    "        new_iproj = widgets.interactive(print_form_proj, mod=dropdownmodel, sbp=start_by_projection, norm=normalization, ini=initialization, dim=dimension_projection, name=namepca)\n",
    "        iproj.children = new_iproj.children\n",
    "    else:\n",
    "        new_iproj = widgets.interactive(print_form_proj, mod=dropdownmodel, sbp=start_by_projection, norm=normalization)\n",
    "        iproj.children = new_iproj.children\n",
    "start_by_projection.observe(for_proj, 'value')\n",
    "PROJ = widgets.Output()\n",
    "PROJ.clear_output()\n",
    "iproj = widgets.interactive(print_form_proj, mod=dropdownmodel, sbp=start_by_projection, norm=normalization, ini=initialization, dim=dimension_projection, name = namepca)\n",
    "input_widgetsproj = widgets.HBox([iproj], layout=item_layout)\n",
    "dashboardproj = widgets.VBox([input_widgetsproj, PROJ])\n",
    "display(dashboardproj)\n",
    "\n",
    "\n",
    "\n",
    "optimizer =widgets.Select(\n",
    "    options=Optimizer.list(),\n",
    "    value='SGD', \n",
    "    description='Initialization for the first linear layer:',\n",
    "    disabled=False,\n",
    "    style=style, layout=layout)\n",
    "display(optimizer)\n",
    "\n",
    "lr = widgets.BoundedFloatText(\n",
    "    value=0.001,\n",
    "    min=0.,\n",
    "    max=100.,\n",
    "    description='Learning Rate:',\n",
    "    disabled=False,\n",
    "    style=style, layout=layout)\n",
    "display(lr)\n",
    "\n",
    "noise_type = widgets.Select(\n",
    "    options=NoiseType.list(),\n",
    "    value='Standard',\n",
    "    description='Noise type:',\n",
    "    style=style, layout=layout)\n",
    "display(noise_type)\n",
    "\n",
    "noise_level = widgets.BoundedFloatText(\n",
    "    value=1./30.,\n",
    "    min=0.000000000001,\n",
    "    max=200.,\n",
    "    description='Noise Level:',\n",
    "    style=style, layout=layout)\n",
    "display(noise_level)\n",
    "\n",
    "batch_size = widgets.IntText(\n",
    "    value=64,\n",
    "    description='Batch Size:',\n",
    "    disabled=False,\n",
    "    style=style, layout=layout)\n",
    "display(batch_size)\n",
    "\n",
    "nb_epochs = widgets.IntText(\n",
    "    value=10000,\n",
    "    description='Nb Epochs:',\n",
    "    disabled=False,\n",
    "    style=style, layout=layout)\n",
    "display(nb_epochs)\n",
    "\n",
    "params_name = widgets.Select(\n",
    "    options=nametoparam.keys(),\n",
    "    value='The three parameters', \n",
    "    description='Parameters to estimate:',\n",
    "    disabled=False,\n",
    "    style=style, layout=layout)\n",
    "display(params_name)\n",
    "\n",
    "lossm0s = widgets.Select(\n",
    "    options=Loss.list(),\n",
    "    value='MSE-Log', \n",
    "    description='Loss m0s:',\n",
    "    disabled=False,\n",
    "    style=style, layout=layout)\n",
    "display(lossm0s)\n",
    "\n",
    "losst1f = widgets.Select(\n",
    "    options=Loss.list(),\n",
    "    value='MSE-Log', \n",
    "    description='Loss t1f:',\n",
    "    disabled=False,\n",
    "    style=style, layout=layout)\n",
    "display(losst1f)\n",
    "\n",
    "losst2f = widgets.Select(\n",
    "    options=Loss.list(),\n",
    "    value='MSE-Log', \n",
    "    description='Loss t2f:',\n",
    "    disabled=False,\n",
    "    style=style, layout=layout)\n",
    "display(losst2f)\n",
    "\n",
    "lossr = widgets.Select(\n",
    "    options=Loss.list(),\n",
    "    value='MSE-Log', \n",
    "    description='Loss r:',\n",
    "    disabled=False,\n",
    "    style=style, layout=layout)\n",
    "display(lossr)\n",
    "\n",
    "losst1s = widgets.Select(\n",
    "    options=Loss.list(),\n",
    "    value='MSE-Log', \n",
    "    description='Loss t1s:',\n",
    "    disabled=False,\n",
    "    style=style, layout=layout)\n",
    "display(losst1s)\n",
    "\n",
    "losst2s = widgets.Select(\n",
    "    options=Loss.list(),\n",
    "    value='MSE-Log', \n",
    "    description='Loss t2s:',\n",
    "    disabled=False,\n",
    "    style=style, layout=layout)\n",
    "display(losst2s)\n",
    "\n",
    "minPD = widgets.FloatText(\n",
    "    description='minimun proton density:',\n",
    "    value=0.1,\n",
    "    disabled=False,\n",
    "    style=style, layout=layout)\n",
    "display(minPD)\n",
    "\n",
    "maxPD = widgets.FloatText(\n",
    "    description='maximum proton density:',\n",
    "    value=1.,\n",
    "    disabled=False,\n",
    "    style=style, layout=layout)\n",
    "display(maxPD)\n",
    "\n",
    "validation = widgets.Checkbox(\n",
    "    value=True,\n",
    "    description='Keep validation error',\n",
    "    disabled=False, layout=layout)\n",
    "\n",
    "iscomplex = widgets.Checkbox(\n",
    "    value=True,\n",
    "    description='Check if input signals are complex valued.',\n",
    "    disabled=False, layout=layout)\n",
    "display(iscomplex)\n",
    "\n",
    "validation_size = widgets.IntText(\n",
    "    value=10000,\n",
    "    description='Validation  size:',\n",
    "    disabled=False,\n",
    "    style={'description_width': '400px'} , layout=layout)\n",
    "\n",
    "small_validation_size = widgets.IntText(\n",
    "    value=10000,\n",
    "    description='Validation size for a small dataset:',\n",
    "    disabled=False,\n",
    "    style={'description_width': '400px'} , layout=layout)\n",
    "\n",
    "nb_files = widgets.IntText(\n",
    "    value=0,\n",
    "    description='Number of files used',\n",
    "    disabled=False, layout=layout, style=style\n",
    ")\n",
    "display(nb_files)\n",
    "\n",
    "path_files = widgets.Text(\n",
    "                    value='gaussian',\n",
    "                    description='Folder in \"loading_data\" containing the files:', style=style, layout=layout)\n",
    "display(path_files)\n",
    "\n",
    "save_name = widgets.Text(\n",
    "    value='1',\n",
    "    placeholder='Enter the name desired',\n",
    "    description='Saving name:',\n",
    "    disabled=False, layout=layout, style=style\n",
    ")\n",
    "display(save_name)\n",
    "\n",
    "button = widgets.Button(description=\"CLICK HERE to save the settings previously defined for the training !\", layout=widgets.Layout(width='50%', height='80px'))\n",
    "output_params = widgets.Output()\n",
    "\n",
    "def on_button_clicked(b):\n",
    "    with output_params:\n",
    "        dic = {}\n",
    "        dic['optimizer'] = optimizer.value\n",
    "        dic['lr'] = lr.value\n",
    "        dic['model'] = dropdownmodel.value\n",
    "        dic['noise_type'] = noise_type.value\n",
    "        dic['noise_level'] = noise_level.value\n",
    "        dic['normalization'] = normalization.value\n",
    "        dic['namepca'] = namepca.value\n",
    "        dic['loss'] = [lossm0s.value, losst1f.value, losst2f.value, lossr.value, losst1s.value, losst2s.value]\n",
    "        dic['batch_size'] = batch_size.value\n",
    "        dic['start_by_projection'] = start_by_projection.value\n",
    "        dic['nb_epochs'] = nb_epochs.value\n",
    "        dic['params'] = nametoparam[params_name.value]\n",
    "        dic['initialization'] = initialization.value\n",
    "        dic['validation_size'] = validation_size.value\n",
    "        dic['validation'] = validation.value\n",
    "        dic['complex'] = iscomplex.value\n",
    "        dic['small_validation_size'] = small_validation_size.value\n",
    "        dic['minPD'] = minPD.value\n",
    "        dic['maxPD'] = maxPD.value\n",
    "        dic['save_name'] = save_name.value\n",
    "        dic['nb_files'] = nb_files.value\n",
    "        dic['path_files'] = path_files.value\n",
    "        dic['dimension_projection'] = dimension_projection.value\n",
    "        import pickle\n",
    "        if not os.path.exists('../settings_files_offline'):\n",
    "            os.mkdir('../settings_files_offline')\n",
    "        f = open(\"../settings_files_offline/settings_\"+save_name.value+\".pkl\",\"wb\")\n",
    "        pickle.dump(dic,f)\n",
    "        f.close()\n",
    "        print('Settings have been saved.')\n",
    "button.on_click(on_button_clicked)\n",
    "\n",
    "\n",
    "def print_form_valid(**func_kwargs):\n",
    "    if i.children[0].value:\n",
    "        return {'Valid': i.children[0].value,\n",
    "                'Svs': i.children[1].value,\n",
    "                'nfv': i.children[2].value}\n",
    "    else:\n",
    "        return {'Valid': i.children[0].value}\n",
    "def for_valid(valid):\n",
    "    if valid.new:\n",
    "        new_i = widgets.interactive(print_form_valid, valid=validation, svs=small_validation_size, nfv=validation_size)\n",
    "        i.children = new_i.children\n",
    "    else:\n",
    "        new_i = widgets.interactive(print_form_valid, valid=validation)\n",
    "        i.children = new_i.children\n",
    "validation.observe(for_valid, 'value')\n",
    "VALID = widgets.Output()\n",
    "VALID.clear_output()\n",
    "i = widgets.interactive(print_form_valid, valid=validation, svs=small_validation_size, nfv=validation_size)\n",
    "input_widgets = widgets.HBox([i], layout=item_layout)\n",
    "dashboard = widgets.VBox([input_widgets, VALID])\n",
    "display(dashboard)\n",
    "\n",
    "display(button, output_params)"
   ]
  },
  {
   "cell_type": "code",
   "execution_count": null,
   "metadata": {},
   "outputs": [],
   "source": []
  }
 ],
 "metadata": {
  "kernelspec": {
   "display_name": "Python 3",
   "language": "python",
   "name": "python3"
  },
  "language_info": {
   "codemirror_mode": {
    "name": "ipython",
    "version": 3
   },
   "file_extension": ".py",
   "mimetype": "text/x-python",
   "name": "python",
   "nbconvert_exporter": "python",
   "pygments_lexer": "ipython3",
   "version": "3.8.3"
  }
 },
 "nbformat": 4,
 "nbformat_minor": 2
}
