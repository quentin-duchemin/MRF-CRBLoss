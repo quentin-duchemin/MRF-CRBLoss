{
 "cells": [
  {
   "cell_type": "markdown",
   "metadata": {},
   "source": [
    "# Interactive tool for estimation of parameters in quantitative MRI\n",
    "\n",
    "# Setting parameters for a new training: $\\color{red}{\\text{ONLINE FRAMEWORK}}$ \n",
    "\n",
    "## Visiting Student : Quentin Duchemin\n",
    "## Profesors : Carlos Fernandez Granda & Jakob Assländer\n",
    "\n",
    "\n",
    "### 1) Presentation of the project\n",
    "\n",
    "We try to estimate the biological parameters in quantitative MRI using neural networks. This notebook is an interactive tool allowing you to define the settings for your next training. Make sure that you want to use fingerprints that are computed $\\color{red}{\\text{ONLINE}}$.\n",
    "\n",
    "### 2) How to use this interface ?\n",
    "\n",
    "This tool allows to save a file containing the settings for a new training. \n",
    "\n",
    "### 3) How to launch a training once the settings file is saved ?\n",
    "\n",
    "To launch a training, follow the instructions below :\n",
    "\n",
    "- Select the desired parameters and push the button to save the file.\n",
    "- From the folder **online_built_fingerprints**, launch the command line : **python main.py --save_name 'name_chosen'**. Make sure to replace **'name_chosen'** by the name you chose to save the settings file."
   ]
  },
  {
   "cell_type": "code",
   "execution_count": 2,
   "metadata": {
    "scrolled": false
   },
   "outputs": [
    {
     "data": {
      "application/vnd.jupyter.widget-view+json": {
       "model_id": "3f2d1579ed41449aaa9bc0d153d0d639",
       "version_major": 2,
       "version_minor": 0
      },
      "text/plain": [
       "VBox(children=(HBox(children=(interactive(children=(Select(description='Select one architecture.', index=13, l…"
      ]
     },
     "metadata": {},
     "output_type": "display_data"
    },
    {
     "data": {
      "application/vnd.jupyter.widget-view+json": {
       "model_id": "39e27cad264e496a8408f1726d761caf",
       "version_major": 2,
       "version_minor": 0
      },
      "text/plain": [
       "BoundedFloatText(value=0.001, description='Learning Rate:', layout=Layout(width='700px'), min=1e-07, step=1e-0…"
      ]
     },
     "metadata": {},
     "output_type": "display_data"
    },
    {
     "data": {
      "application/vnd.jupyter.widget-view+json": {
       "model_id": "21a52e3dee2247feaea564bd1d90c549",
       "version_major": 2,
       "version_minor": 0
      },
      "text/plain": [
       "Select(description='Noise type:', index=1, layout=Layout(width='700px'), options=('SNR', 'Standard'), style=De…"
      ]
     },
     "metadata": {},
     "output_type": "display_data"
    },
    {
     "data": {
      "application/vnd.jupyter.widget-view+json": {
       "model_id": "2ec07f65aaf041779ff403d027e88cf7",
       "version_major": 2,
       "version_minor": 0
      },
      "text/plain": [
       "BoundedFloatText(value=0.03333333333333333, description='Noise Level:', layout=Layout(width='700px'), max=200.…"
      ]
     },
     "metadata": {},
     "output_type": "display_data"
    },
    {
     "data": {
      "application/vnd.jupyter.widget-view+json": {
       "model_id": "b7b54a60c9314888a1a6165e3249376a",
       "version_major": 2,
       "version_minor": 0
      },
      "text/plain": [
       "Select(description='Sampling:', layout=Layout(width='700px'), options=('Log', 'Uniform'), style=DescriptionSty…"
      ]
     },
     "metadata": {},
     "output_type": "display_data"
    },
    {
     "data": {
      "application/vnd.jupyter.widget-view+json": {
       "model_id": "73c497f0cd3f47f3af1cb87924d04bea",
       "version_major": 2,
       "version_minor": 0
      },
      "text/plain": [
       "IntText(value=64, description='Batch Size:', layout=Layout(width='700px'), style=DescriptionStyle(description_…"
      ]
     },
     "metadata": {},
     "output_type": "display_data"
    },
    {
     "data": {
      "application/vnd.jupyter.widget-view+json": {
       "model_id": "d12c74c9c1ae457e8eb262fba485dff7",
       "version_major": 2,
       "version_minor": 0
      },
      "text/plain": [
       "IntText(value=20, description='Nb Iterations:', layout=Layout(width='700px'), style=DescriptionStyle(descripti…"
      ]
     },
     "metadata": {},
     "output_type": "display_data"
    },
    {
     "data": {
      "application/vnd.jupyter.widget-view+json": {
       "model_id": "1ad1fa143b7a4994be76edaafc676bf6",
       "version_major": 2,
       "version_minor": 0
      },
      "text/plain": [
       "IntText(value=10000, description='Nb Epochs:', layout=Layout(width='700px'), style=DescriptionStyle(descriptio…"
      ]
     },
     "metadata": {},
     "output_type": "display_data"
    },
    {
     "data": {
      "application/vnd.jupyter.widget-view+json": {
       "model_id": "05ad8b591bfe497e80cd0262a53252f1",
       "version_major": 2,
       "version_minor": 0
      },
      "text/plain": [
       "Select(description='Parameters to estimate:', index=3, layout=Layout(width='700px'), options=('m0s', 'T1', 'T2…"
      ]
     },
     "metadata": {},
     "output_type": "display_data"
    },
    {
     "data": {
      "application/vnd.jupyter.widget-view+json": {
       "model_id": "b8fb17b2292b4beea38c72d931b07d21",
       "version_major": 2,
       "version_minor": 0
      },
      "text/plain": [
       "Select(description='Loss m0s:', layout=Layout(width='700px'), options=('MSE-Log', 'MSE', 'MSE-Inverse', 'MSE-S…"
      ]
     },
     "metadata": {},
     "output_type": "display_data"
    },
    {
     "data": {
      "application/vnd.jupyter.widget-view+json": {
       "model_id": "13eba29f85d4408e8435e69358509f85",
       "version_major": 2,
       "version_minor": 0
      },
      "text/plain": [
       "Select(description='Loss t1f:', layout=Layout(width='700px'), options=('MSE-Log', 'MSE', 'MSE-Inverse', 'MSE-S…"
      ]
     },
     "metadata": {},
     "output_type": "display_data"
    },
    {
     "data": {
      "application/vnd.jupyter.widget-view+json": {
       "model_id": "34453c6883df43d58a8b9010f8170dbf",
       "version_major": 2,
       "version_minor": 0
      },
      "text/plain": [
       "Select(description='Loss t2f:', layout=Layout(width='700px'), options=('MSE-Log', 'MSE', 'MSE-Inverse', 'MSE-S…"
      ]
     },
     "metadata": {},
     "output_type": "display_data"
    },
    {
     "data": {
      "application/vnd.jupyter.widget-view+json": {
       "model_id": "2b4fb916afd34eceb13eefe4d0b3e806",
       "version_major": 2,
       "version_minor": 0
      },
      "text/plain": [
       "Select(description='Loss r:', layout=Layout(width='700px'), options=('MSE-Log', 'MSE', 'MSE-Inverse', 'MSE-Sca…"
      ]
     },
     "metadata": {},
     "output_type": "display_data"
    },
    {
     "data": {
      "application/vnd.jupyter.widget-view+json": {
       "model_id": "bc00d8d9369543b0b1b043358f20376b",
       "version_major": 2,
       "version_minor": 0
      },
      "text/plain": [
       "Select(description='Loss t1s:', layout=Layout(width='700px'), options=('MSE-Log', 'MSE', 'MSE-Inverse', 'MSE-S…"
      ]
     },
     "metadata": {},
     "output_type": "display_data"
    },
    {
     "data": {
      "application/vnd.jupyter.widget-view+json": {
       "model_id": "1741217704154c4b9f692ea1ece55036",
       "version_major": 2,
       "version_minor": 0
      },
      "text/plain": [
       "Select(description='Loss t2s:', layout=Layout(width='700px'), options=('MSE-Log', 'MSE', 'MSE-Inverse', 'MSE-S…"
      ]
     },
     "metadata": {},
     "output_type": "display_data"
    },
    {
     "data": {
      "application/vnd.jupyter.widget-view+json": {
       "model_id": "4ded17f43ee8403e9101afc30613b0c4",
       "version_major": 2,
       "version_minor": 0
      },
      "text/plain": [
       "FloatRangeSlider(value=(0.1, 6.0), continuous_update=False, description='Range for T1:', layout=Layout(width='…"
      ]
     },
     "metadata": {},
     "output_type": "display_data"
    },
    {
     "data": {
      "application/vnd.jupyter.widget-view+json": {
       "model_id": "4dba840859dc4132b11f4f16bded3acb",
       "version_major": 2,
       "version_minor": 0
      },
      "text/plain": [
       "FloatRangeSlider(value=(0.01, 3.0), continuous_update=False, description='Range for T2:', layout=Layout(width=…"
      ]
     },
     "metadata": {},
     "output_type": "display_data"
    },
    {
     "data": {
      "application/vnd.jupyter.widget-view+json": {
       "model_id": "244020e13cdf4fe18ca5127befdfd5d5",
       "version_major": 2,
       "version_minor": 0
      },
      "text/plain": [
       "FloatRangeSlider(value=(0.1, 0.5), continuous_update=False, description='Range for m0s:', layout=Layout(width=…"
      ]
     },
     "metadata": {},
     "output_type": "display_data"
    },
    {
     "data": {
      "application/vnd.jupyter.widget-view+json": {
       "model_id": "268acb074d814ee7b4785a6f0721e129",
       "version_major": 2,
       "version_minor": 0
      },
      "text/plain": [
       "FloatRangeSlider(value=(10.0, 100.0), continuous_update=False, description='Range for R:', layout=Layout(width…"
      ]
     },
     "metadata": {},
     "output_type": "display_data"
    },
    {
     "data": {
      "application/vnd.jupyter.widget-view+json": {
       "model_id": "a4b940ff8afc43dba30c9476a1073524",
       "version_major": 2,
       "version_minor": 0
      },
      "text/plain": [
       "FloatRangeSlider(value=(0.001, 0.1), continuous_update=False, description='Range for T2s:', layout=Layout(widt…"
      ]
     },
     "metadata": {},
     "output_type": "display_data"
    },
    {
     "data": {
      "application/vnd.jupyter.widget-view+json": {
       "model_id": "99a6c023935644008caf8fd0aeb77b38",
       "version_major": 2,
       "version_minor": 0
      },
      "text/plain": [
       "FloatText(value=0.1, description='minimun proton density:', layout=Layout(width='700px'), style=DescriptionSty…"
      ]
     },
     "metadata": {},
     "output_type": "display_data"
    },
    {
     "data": {
      "application/vnd.jupyter.widget-view+json": {
       "model_id": "ec108ec1bf0046938fb1759712ae9d83",
       "version_major": 2,
       "version_minor": 0
      },
      "text/plain": [
       "FloatText(value=1.0, description='maximum proton density:', layout=Layout(width='700px'), style=DescriptionSty…"
      ]
     },
     "metadata": {},
     "output_type": "display_data"
    },
    {
     "data": {
      "application/vnd.jupyter.widget-view+json": {
       "model_id": "0136c998a22240039292f33a71004611",
       "version_major": 2,
       "version_minor": 0
      },
      "text/plain": [
       "Select(description='T2 wrt T1:', index=2, layout=Layout(width='700px'), options=('no_constraint', 'below', 'be…"
      ]
     },
     "metadata": {},
     "output_type": "display_data"
    },
    {
     "data": {
      "application/vnd.jupyter.widget-view+json": {
       "model_id": "c819ffbdec0e4836876f1d27934acfb0",
       "version_major": 2,
       "version_minor": 0
      },
      "text/plain": [
       "Text(value='1', description='Saving name:', layout=Layout(width='700px'), placeholder='Enter the name desired'…"
      ]
     },
     "metadata": {},
     "output_type": "display_data"
    },
    {
     "data": {
      "application/vnd.jupyter.widget-view+json": {
       "model_id": "eb1a9c22920247a8bd7efd4b728075a9",
       "version_major": 2,
       "version_minor": 0
      },
      "text/plain": [
       "Checkbox(value=True, description='Save samples during training', layout=Layout(width='700px'))"
      ]
     },
     "metadata": {},
     "output_type": "display_data"
    },
    {
     "data": {
      "application/vnd.jupyter.widget-view+json": {
       "model_id": "1c461bbd83c14f808309305309ea5916",
       "version_major": 2,
       "version_minor": 0
      },
      "text/plain": [
       "VBox(children=(HBox(children=(interactive(children=(Checkbox(value=True, description='Keep validation error', …"
      ]
     },
     "metadata": {},
     "output_type": "display_data"
    },
    {
     "data": {
      "application/vnd.jupyter.widget-view+json": {
       "model_id": "9ef89e230f994996bf8e18cb7baca1a7",
       "version_major": 2,
       "version_minor": 0
      },
      "text/plain": [
       "Button(button_style='success', description='CLICK HERE to save the settings previously defined for the trainin…"
      ]
     },
     "metadata": {},
     "output_type": "display_data"
    },
    {
     "data": {
      "application/vnd.jupyter.widget-view+json": {
       "model_id": "05491f8d8a914cd1bb379f8a9310fcff",
       "version_major": 2,
       "version_minor": 0
      },
      "text/plain": [
       "Output()"
      ]
     },
     "metadata": {},
     "output_type": "display_data"
    }
   ],
   "source": [
    "import sys\n",
    "sys.path.append('..')\n",
    "from ipywidgets import interact, interactive, fixed, interact_manual\n",
    "import ipywidgets as widgets\n",
    "from os import listdir\n",
    "from os.path import isfile, join\n",
    "import importlib\n",
    "from IPython.display import clear_output\n",
    "import numpy as np\n",
    "from MRF.Online import Network\n",
    "from MRF.Training_parameters import *\n",
    "import MRF\n",
    "import warnings\n",
    "import os\n",
    "warnings.filterwarnings(\"ignore\")\n",
    "\n",
    "\n",
    "item_layout = widgets. Layout(\n",
    "    display='flex',\n",
    "    justify_content='space-between'\n",
    ")\n",
    "style = {'description_width': '250px'} \n",
    "layout = {'width': '700px'}\n",
    "\n",
    "dropdownmodel = widgets.Select(\n",
    "    options=MRF.models.__all__,\n",
    "    value='joint_deep3',\n",
    "    description='Select one architecture.',\n",
    "    style=style, layout=layout)\n",
    "\n",
    "initialization =widgets.Select(\n",
    "    options = Initialization.list(),\n",
    "    value='Random', \n",
    "    description='Initialization for the first linear layer:',\n",
    "    disabled=False,\n",
    "    style=style, layout=layout)\n",
    "\n",
    "dimension_projection = widgets.IntText(\n",
    "    value=None,\n",
    "    description='Dimension projection subspace:',\n",
    "    disabled=False,\n",
    "    style=style, layout=layout)\n",
    "\n",
    "start_by_projection = widgets.Checkbox(\n",
    "    value=True,\n",
    "    description='Start by a projection',\n",
    "    disabled=True, layout=layout)\n",
    "\n",
    "normalization = widgets.Select(\n",
    "    options = Normalization.list(),\n",
    "    value='Without',\n",
    "    description='Normalization:',\n",
    "    style=style, layout=layout)\n",
    "\n",
    "namepca = widgets.Text(\n",
    "    value='basis_gaussian.mat',\n",
    "    description='Name file PCA:',\n",
    "    disabled=False,\n",
    "    style=style, layout=layout)\n",
    "\n",
    "def print_form_proj(**func_kwargs):\n",
    "    MOD = importlib.import_module('MRF.models.'+dropdownmodel.value)\n",
    "    net = MOD.model(40, False, 3)\n",
    "    if net.start_by_projection:\n",
    "        iproj.children[1].value = True\n",
    "        iproj.children[2].options = Normalization.list()\n",
    "        return {'mod': iproj.children[0].value,\n",
    "                'Sbp': iproj.children[1].value,\n",
    "                'Norm': iproj.children[2].value,\n",
    "                'Ini': iproj.children[3].value,\n",
    "                'Dim': iproj.children[4].value,\n",
    "                'name': iproj.children[5].value}\n",
    "    else:\n",
    "        iproj.children[1].value = False\n",
    "        iproj.children[2].options = Normalization.list()[:2] \n",
    "        return {'mod': iproj.children[0].value,\n",
    "                'Sbp': iproj.children[1].value,\n",
    "                'Norm': iproj.children[2].value}\n",
    "\n",
    "def for_proj(valid):\n",
    "    if valid.new:\n",
    "        new_iproj = widgets.interactive(print_form_proj, mod=dropdownmodel, sbp=start_by_projection, norm=normalization, ini=initialization, dim=dimension_projection, name=namepca)\n",
    "        iproj.children = new_iproj.children\n",
    "    else:\n",
    "        new_iproj = widgets.interactive(print_form_proj, mod=dropdownmodel, sbp=start_by_projection, norm=normalization)\n",
    "        iproj.children = new_iproj.children\n",
    "start_by_projection.observe(for_proj, 'value')\n",
    "PROJ = widgets.Output()\n",
    "PROJ.clear_output()\n",
    "iproj = widgets.interactive(print_form_proj, mod=dropdownmodel, sbp=start_by_projection, norm=normalization, ini=initialization, dim=dimension_projection, name = namepca)\n",
    "input_widgetsproj = widgets.HBox([iproj], layout=item_layout)\n",
    "dashboardproj = widgets.VBox([input_widgetsproj, PROJ])\n",
    "display(dashboardproj)\n",
    "\n",
    "optimizer =widgets.Select(\n",
    "    options = Optimizer.list(),\n",
    "    value='Random', \n",
    "    description='Initialization for the first linear layer:',\n",
    "    disabled=False,\n",
    "    style=style, layout=layout)\n",
    "display(optimizer)\n",
    "\n",
    "lr = widgets.BoundedFloatText(\n",
    "    value=0.001,\n",
    "    min=0.0000001,\n",
    "    max=100.,\n",
    "    step=0.00001,\n",
    "    description='Learning Rate:',\n",
    "    disabled=False,\n",
    "    style=style, layout=layout)\n",
    "display(lr)\n",
    "\n",
    "noise_type = widgets.Select(\n",
    "    options=NoiseType.list(),\n",
    "    value='Standard',\n",
    "    description='Noise type:',\n",
    "    style=style, layout=layout)\n",
    "display(noise_type)\n",
    "\n",
    "noise_level = widgets.BoundedFloatText(\n",
    "    value=1./30.,\n",
    "    min=0.000000000001,\n",
    "    max=200.,\n",
    "    description='Noise Level:',\n",
    "    style=style, layout=layout)\n",
    "display(noise_level)\n",
    "\n",
    "sampling = widgets.Select(\n",
    "    options=Sampling.list(),\n",
    "    value='Log',\n",
    "    description='Sampling:',\n",
    "    style=style, layout=layout)\n",
    "display(sampling)\n",
    "\n",
    "batch_size = widgets.IntText(\n",
    "    value=64,\n",
    "    description='Batch Size:',\n",
    "    disabled=False,\n",
    "    style=style, layout=layout)\n",
    "display(batch_size)\n",
    "\n",
    "nb_iterations = widgets.IntText(\n",
    "    value=20,\n",
    "    description='Nb Iterations:',\n",
    "    disabled=False,\n",
    "    style=style, layout=layout)\n",
    "display(nb_iterations)\n",
    "\n",
    "nb_epochs = widgets.IntText(\n",
    "    value=10000,\n",
    "    description='Nb Epochs:',\n",
    "    disabled=False,\n",
    "    style=style, layout=layout)\n",
    "display(nb_epochs)\n",
    "\n",
    "params_name = widgets.Select(\n",
    "    options=nametoparam.keys(),\n",
    "    value='The three parameters', \n",
    "    description='Parameters to estimate:',\n",
    "    disabled=False,\n",
    "    style=style, layout=layout)\n",
    "display(params_name)\n",
    "\n",
    "lossm0s = widgets.Select(\n",
    "    options=Loss.list(),\n",
    "    value='MSE-Log', \n",
    "    description='Loss m0s:',\n",
    "    disabled=False,\n",
    "    style=style, layout=layout)\n",
    "display(lossm0s)\n",
    "\n",
    "losst1f = widgets.Select(\n",
    "    options=Loss.list(),\n",
    "    value='MSE-Log', \n",
    "    description='Loss t1f:',\n",
    "    disabled=False,\n",
    "    style=style, layout=layout)\n",
    "display(losst1f)\n",
    "\n",
    "losst2f = widgets.Select(\n",
    "    options=Loss.list(),\n",
    "    value='MSE-Log', \n",
    "    description='Loss t2f:',\n",
    "    disabled=False,\n",
    "    style=style, layout=layout)\n",
    "display(losst2f)\n",
    "\n",
    "lossr = widgets.Select(\n",
    "    options=Loss.list(),\n",
    "    value='MSE-Log', \n",
    "    description='Loss r:',\n",
    "    disabled=False,\n",
    "    style=style, layout=layout)\n",
    "display(lossr)\n",
    "\n",
    "losst1s = widgets.Select(\n",
    "    options=Loss.list(),\n",
    "    value='MSE-Log', \n",
    "    description='Loss t1s:',\n",
    "    disabled=False,\n",
    "    style=style, layout=layout)\n",
    "display(losst1s)\n",
    "\n",
    "losst2s = widgets.Select(\n",
    "    options=Loss.list(),\n",
    "    value='MSE-Log', \n",
    "    description='Loss t2s:',\n",
    "    disabled=False,\n",
    "    style=style, layout=layout)\n",
    "display(losst2s)\n",
    "\n",
    "ranget1 = widgets.FloatRangeSlider(\n",
    "    value=[0.1, 6],\n",
    "    min=0,\n",
    "    max=7,\n",
    "    step=0.001,\n",
    "    description='Range for T1:',\n",
    "    disabled=False,\n",
    "    continuous_update=False,\n",
    "    orientation='horizontal',\n",
    "    readout=True,\n",
    "    readout_format='.3f',\n",
    "    style=style, layout=layout)\n",
    "display(ranget1)\n",
    "\n",
    "ranget2 = widgets.FloatRangeSlider(\n",
    "    value=[0.01, 3],\n",
    "    min=0,\n",
    "    max=4,\n",
    "    step=0.001,\n",
    "    description='Range for T2:',\n",
    "    disabled=False,\n",
    "    continuous_update=False,\n",
    "    orientation='horizontal',\n",
    "    readout=True,\n",
    "    readout_format='.3f',\n",
    "    style=style, layout=layout)\n",
    "display(ranget2)\n",
    "\n",
    "rangem0s = widgets.FloatRangeSlider(\n",
    "    value=[0.1, 0.5],\n",
    "    min=0,\n",
    "    max=0.7,\n",
    "    step=0.001,\n",
    "    description='Range for m0s:',\n",
    "    disabled=False,\n",
    "    continuous_update=False,\n",
    "    orientation='horizontal',\n",
    "    readout=True,\n",
    "    readout_format='.3f',\n",
    "    style=style, layout=layout)\n",
    "display(rangem0s)\n",
    "\n",
    "ranger = widgets.FloatRangeSlider(\n",
    "    value=[10, 100],\n",
    "    min=0,\n",
    "    max=110,\n",
    "    step=1,\n",
    "    description='Range for R:',\n",
    "    disabled=False,\n",
    "    continuous_update=False,\n",
    "    orientation='horizontal',\n",
    "    readout=True,\n",
    "    style=style, layout=layout)\n",
    "display(ranger)\n",
    "\n",
    "ranget2s = widgets.FloatRangeSlider(\n",
    "    value=[0.001, 0.1],\n",
    "    min=0.001,\n",
    "    max=0.1,\n",
    "    step=0.001,\n",
    "    description='Range for T2s:',\n",
    "    disabled=False,\n",
    "    continuous_update=False,\n",
    "    orientation='horizontal',\n",
    "    readout=True,\n",
    "    readout_format='0.3f',\n",
    "    style=style, layout=layout)\n",
    "display(ranget2s)\n",
    "\n",
    "minPD = widgets.FloatText(\n",
    "    value=0.1,\n",
    "    description='minimun proton density:',\n",
    "    disabled=False,\n",
    "    style=style, layout=layout)\n",
    "display(minPD)\n",
    "\n",
    "maxPD = widgets.FloatText(\n",
    "    value=1.,\n",
    "    description='maximum proton density:',\n",
    "    disabled=False,\n",
    "    style=style, layout=layout)\n",
    "display(maxPD)\n",
    "\n",
    "t2_wrt_t1 =  widgets.Select(\n",
    "    options=T2wrtT1.list(),\n",
    "    value='below_percent', \n",
    "    description='T2 wrt T1:',\n",
    "    disabled=False,\n",
    "    style=style, layout=layout)\n",
    "display(t2_wrt_t1)\n",
    "\n",
    "save_name = widgets.Text(\n",
    "    value='1',\n",
    "    placeholder='Enter the name desired',\n",
    "    description='Saving name:',\n",
    "    disabled=False, layout=layout)\n",
    "display(save_name)\n",
    "\n",
    "save_samples = widgets.Checkbox(\n",
    "    value=True,\n",
    "    description='Save samples during training',\n",
    "    disabled=False, layout=layout)\n",
    "display(save_samples)\n",
    "\n",
    "validation = widgets.Checkbox(\n",
    "    value=True,\n",
    "    description='Keep validation error',\n",
    "    disabled=False, layout=layout)\n",
    "\n",
    "validation_size =widgets.IntText(\n",
    "    value=1000,\n",
    "    description='Validation size:',\n",
    "    disabled=False,\n",
    "    style=style, layout=layout)\n",
    "\n",
    "def print_form_valid(**func_kwargs):\n",
    "    if i.children[0].value:\n",
    "        return {'Valid': i.children[0].value,\n",
    "                'Svs': i.children[1].value}\n",
    "    else:\n",
    "        return {'Valid': i.children[0].value}\n",
    "def for_valid(valid):\n",
    "    if valid.new:\n",
    "        new_i = widgets.interactive(print_form_valid, valid=validation, svs=validation_size)\n",
    "        i.children = new_i.children\n",
    "    else:\n",
    "        new_i = widgets.interactive(print_form_valid, valid=validation)\n",
    "        i.children = new_i.children\n",
    "validation.observe(for_valid, 'value')\n",
    "VALID = widgets.Output()\n",
    "VALID.clear_output()\n",
    "i = widgets.interactive(print_form_valid, valid=validation, svs=validation_size)\n",
    "input_widgets = widgets.HBox([i], layout=item_layout)\n",
    "dashboard = widgets.VBox([input_widgets, VALID])\n",
    "display(dashboard)\n",
    "\n",
    "\n",
    "button = widgets.Button(description=\"CLICK HERE to save the settings previously defined for the training !\", button_style='success', layout=widgets.Layout(width='50%', height='80px'))\n",
    "output_params = widgets.Output()\n",
    "\n",
    "\n",
    "def on_button_clicked(b):\n",
    "    with output_params:\n",
    "        dic = {}\n",
    "        dic['optimizer'] = optimizer.value\n",
    "        dic['lr'] = lr.value\n",
    "        dic['model'] = dropdownmodel.value\n",
    "        dic['noise_type'] = noise_type.value\n",
    "        dic['noise_level'] = noise_level.value\n",
    "        dic['sampling'] = sampling.value\n",
    "        dic['loss'] = [lossm0s.value, losst1f.value, losst2f.value, lossr.value, losst1s.value, losst2s.value]\n",
    "        dic['batch_size'] = batch_size.value\n",
    "        dic['nb_iterations'] = nb_iterations.value\n",
    "        dic['nb_epochs'] = nb_epochs.value\n",
    "        dic['params'] = nametoparam[params_name.value]\n",
    "        dic['initialization'] = initialization.value\n",
    "        dic['save_samples'] = save_samples.value\n",
    "        dic['validation'] = validation.value\n",
    "        dic['validation_size'] = validation_size.value\n",
    "        dic['start_by_projection'] = start_by_projection.value\n",
    "        dic['minPD'] = minPD.value\n",
    "        dic['maxPD'] = maxPD.value\n",
    "        dic['normalization'] = normalization.value\n",
    "        dic['t2_wrt_t1'] = t2_wrt_t1.value\n",
    "        dic['min_values'] = [rangem0s.value[0],ranget1.value[0],ranget2.value[0],ranger.value[0],ranget2s.value[0]]\n",
    "        dic['max_values'] = [rangem0s.value[1],ranget1.value[1],ranget2.value[1],ranger.value[1],ranget2s.value[1]]\n",
    "        dic['save_name'] = save_name.value\n",
    "        dic['dimension_projection'] = dimension_projection.value\n",
    "        import pickle\n",
    "        if not os.path.exists('../settings_files_online'):\n",
    "            os.mkdir('../settings_files_online')\n",
    "        f = open(\"../settings_files_online/settings_\"+save_name.value+\".pkl\",\"wb\")\n",
    "        pickle.dump(dic,f)\n",
    "        f.close()\n",
    "        print('Settings have been saved.')\n",
    "button.on_click(on_button_clicked)\n",
    "\n",
    "display(button, output_params)"
   ]
  },
  {
   "cell_type": "code",
   "execution_count": null,
   "metadata": {},
   "outputs": [],
   "source": [
    "import pickle\n",
    "with open('settings_files/settings_21.pkl', 'rb') as f:\n",
    "    default_settings = pickle.load(f)\n",
    "    print(default_settings)"
   ]
  },
  {
   "cell_type": "code",
   "execution_count": null,
   "metadata": {},
   "outputs": [],
   "source": [
    "random.seed()\n",
    "\t\tnp.random.seed()\n",
    "\t\tm0s = random.uniform(0,0.7)\n",
    "\t\tt1 = 2.8 * random.uniform(0,1) + 0.2\n",
    "\t\tt2f = t1 * ( random.uniform(0,1) * 0.5 + 0.005 )\n",
    "\t\tr = 490 * random.random(0,1) + 10\n",
    "\t\tt2s= 0.2 * 10**(-3) + random.uniform(0,1) * 150 * 10**(-3)"
   ]
  }
 ],
 "metadata": {
  "kernelspec": {
   "display_name": "pyenv",
   "language": "python",
   "name": "pyenv"
  },
  "language_info": {
   "codemirror_mode": {
    "name": "ipython",
    "version": 3
   },
   "file_extension": ".py",
   "mimetype": "text/x-python",
   "name": "python",
   "nbconvert_exporter": "python",
   "pygments_lexer": "ipython3",
   "version": "3.6.8"
  }
 },
 "nbformat": 4,
 "nbformat_minor": 2
}
